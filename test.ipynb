{
 "cells": [
  {
   "cell_type": "code",
   "execution_count": 1,
   "metadata": {},
   "outputs": [],
   "source": [
    "import sys\n",
    "sys.path.append(r'D:\\Fausto Stangler\\Documentos\\Python\\DSH')\n",
    "import assets.helper as b3\n",
    "import assets.functions as run\n",
    "\n",
    "\n"
   ]
  },
  {
   "cell_type": "code",
   "execution_count": 2,
   "metadata": {},
   "outputs": [],
   "source": [
    "import assets.helper as b4\n",
    "import assets.functions as run4\n"
   ]
  },
  {
   "cell_type": "code",
   "execution_count": null,
   "metadata": {},
   "outputs": [],
   "source": [
    "import assets.helper as b3\n",
    "import assets.functions as run\n",
    "\n"
   ]
  },
  {
   "cell_type": "code",
   "execution_count": 3,
   "metadata": {},
   "outputs": [],
   "source": [
    "import os\n",
    "import datetime\n",
    "import time\n",
    "import winsound\n",
    "import random\n",
    "\n",
    "import pandas as pd\n",
    "\n",
    "from google.cloud import storage\n",
    "import json\n",
    "import gzip\n",
    "import io\n",
    "import base64\n",
    "\n",
    "import requests\n",
    "from bs4 import BeautifulSoup\n",
    "\n",
    "import unidecode\n",
    "import string\n",
    "import re"
   ]
  },
  {
   "cell_type": "markdown",
   "metadata": {},
   "source": [
    "### Convert"
   ]
  },
  {
   "cell_type": "code",
   "execution_count": 24,
   "metadata": {},
   "outputs": [
    {
     "name": "stdout",
     "output_type": "stream",
     "text": [
      "load rad_web\n"
     ]
    }
   ],
   "source": [
    "df_rad_web = run4.load_parquet('rad_web')\n"
   ]
  },
  {
   "cell_type": "code",
   "execution_count": null,
   "metadata": {},
   "outputs": [],
   "source": [
    "cols_nsd = ['companhia', 'trimestre', 'versao', 'dri', 'dri2', 'dre', 'auditor', 'auditor_rt', 'cancelamento', 'protocolo', 'envio', 'url', 'nsd']\n",
    "nsd = nsd[cols_nsd]\n",
    "nsd = run4.save_parquet(nsd, 'nsd')\n"
   ]
  },
  {
   "cell_type": "code",
   "execution_count": null,
   "metadata": {},
   "outputs": [],
   "source": [
    "mask = nsd['dre'].isin(b3.dfp)\n"
   ]
  },
  {
   "cell_type": "code",
   "execution_count": 27,
   "metadata": {},
   "outputs": [
    {
     "data": {
      "text/plain": [
       "10.0"
      ]
     },
     "execution_count": 27,
     "metadata": {},
     "output_type": "execute_result"
    }
   ],
   "source": [
    "b3.bin_size/5\n"
   ]
  },
  {
   "cell_type": "code",
   "execution_count": 21,
   "metadata": {},
   "outputs": [
    {
     "data": {
      "text/plain": [
       "dtype('O')"
      ]
     },
     "execution_count": 21,
     "metadata": {},
     "output_type": "execute_result"
    }
   ],
   "source": [
    "df_rad_web['conta'].dtype\n"
   ]
  },
  {
   "cell_type": "code",
   "execution_count": 23,
   "metadata": {},
   "outputs": [
    {
     "data": {
      "text/html": [
       "<div>\n",
       "<style scoped>\n",
       "    .dataframe tbody tr th:only-of-type {\n",
       "        vertical-align: middle;\n",
       "    }\n",
       "\n",
       "    .dataframe tbody tr th {\n",
       "        vertical-align: top;\n",
       "    }\n",
       "\n",
       "    .dataframe thead th {\n",
       "        text-align: right;\n",
       "    }\n",
       "</style>\n",
       "<table border=\"1\" class=\"dataframe\">\n",
       "  <thead>\n",
       "    <tr style=\"text-align: right;\">\n",
       "      <th></th>\n",
       "      <th>companhia</th>\n",
       "      <th>trimestre</th>\n",
       "      <th>conta</th>\n",
       "      <th>descrição</th>\n",
       "      <th>valor</th>\n",
       "      <th>unidade</th>\n",
       "      <th>demo_det</th>\n",
       "      <th>demo_fin</th>\n",
       "      <th>url</th>\n",
       "    </tr>\n",
       "  </thead>\n",
       "  <tbody>\n",
       "  </tbody>\n",
       "</table>\n",
       "</div>"
      ],
      "text/plain": [
       "Empty DataFrame\n",
       "Columns: [companhia, trimestre, conta, descrição, valor, unidade, demo_det, demo_fin, url]\n",
       "Index: []"
      ]
     },
     "execution_count": 23,
     "metadata": {},
     "output_type": "execute_result"
    }
   ],
   "source": [
    "m = df_rad_web['conta'].isnull()\n",
    "df_rad_web[m]"
   ]
  },
  {
   "cell_type": "code",
   "execution_count": null,
   "metadata": {},
   "outputs": [],
   "source": [
    "# Assuming df_nsd is your DataFrame\n",
    "df_acoes.columns = df_acoes.columns.str.lower()\n"
   ]
  },
  {
   "cell_type": "code",
   "execution_count": null,
   "metadata": {},
   "outputs": [],
   "source": [
    "df_acoes = run4.save_parquet(df_acoes, 'acoes')"
   ]
  },
  {
   "cell_type": "code",
   "execution_count": null,
   "metadata": {},
   "outputs": [],
   "source": [
    "df_nsd.rename(columns={\n",
    "    'company': 'Companhia', \n",
    "    'data': 'Trimestre', \n",
    "    'url': 'URL', \n",
    "    }, inplace=True)\n"
   ]
  },
  {
   "cell_type": "code",
   "execution_count": null,
   "metadata": {},
   "outputs": [],
   "source": [
    "df_nsd = run4.save_parquet(df_nsd, 'nsd', upload=True)\n"
   ]
  },
  {
   "cell_type": "markdown",
   "metadata": {},
   "source": [
    "### Clean Acoes"
   ]
  },
  {
   "cell_type": "code",
   "execution_count": null,
   "metadata": {},
   "outputs": [],
   "source": [
    "df_nsd = run.load_parquet('nsd').reset_index(drop=True)\n",
    "df_nsd['Trimestre'] = pd.to_datetime(df_nsd['Trimestre'], errors='coerce', format='%d%m%Y')\n",
    "\n",
    "# set_index\n",
    "df_nsd['nsd'] = df_nsd['URL'].apply(lambda x: int(x.split('Documento=')[-1].split('&')[0]))\n",
    "# df_nsd = df_nsd.set_index('nsd')\n",
    "\n",
    "# Filter, Deduplicate and keep last subset\n",
    "df_nsd_filtered = df_nsd[df_nsd['dre'].isin(b3.dfp)].copy()\n",
    "df_nsd_filtered = df_nsd_filtered.sort_values(by=['Companhia', 'Trimestre', 'URL'], ascending=[True, True, True])\n",
    "df_nsd_filtered = df_nsd_filtered.drop_duplicates(subset=['Companhia', 'Trimestre'], keep='last')\n",
    "df_nsd_filtered.reset_index(drop=True, inplace=True)\n",
    "\n",
    "df_acoes = run.load_parquet('acoes').reset_index(drop=True)\n",
    "df_acoes['Trimestre'] = pd.to_datetime(df_acoes['Trimestre'], errors='coerce', format='%d%m%Y')\n",
    "\n",
    "# Deduplicate and keep last subset\n",
    "df_acoes = df_acoes.sort_values(by=['Companhia', 'Trimestre', 'URL'], ascending=[True, True, True])\n",
    "df_acoes = df_acoes.drop_duplicates(subset=['Companhia', 'Trimestre'], keep='last')\n",
    "df_acoes.reset_index(drop=True, inplace=True)\n",
    "\n",
    "# set_index\n",
    "df_acoes['nsd'] = df_acoes['URL'].apply(lambda x: int(x.split('Documento=')[-1].split('&')[0]))\n",
    "# df_acoes = df_acoes.set_index('nsd')\n",
    "\n",
    "# Combine rows based on Company and Quarter\n",
    "df_acoes = pd.DataFrame(columns=b3.columns['acoes'])\n",
    "\n",
    "df_acoes_nsd = pd.merge(df_acoes, df_nsd_filtered, on=['Companhia', 'Trimestre'], how='outer', suffixes=('', '_nsd'), indicator=True)\n",
    "\n"
   ]
  },
  {
   "cell_type": "code",
   "execution_count": null,
   "metadata": {},
   "outputs": [],
   "source": [
    "df_nsd"
   ]
  },
  {
   "cell_type": "code",
   "execution_count": null,
   "metadata": {},
   "outputs": [],
   "source": [
    "\n",
    "linhas_para_atualizar = df_acoes_nsd[df_acoes_nsd['nsd_nsd'] > df_acoes_nsd['nsd']]\n"
   ]
  },
  {
   "cell_type": "code",
   "execution_count": null,
   "metadata": {},
   "outputs": [],
   "source": [
    "\n",
    "linhas_para_atualizar[['Companhia', 'Trimestre', 'URL', 'URL_nsd', 'nsd', 'nsd_nsd']]"
   ]
  },
  {
   "cell_type": "code",
   "execution_count": null,
   "metadata": {},
   "outputs": [],
   "source": [
    "# Obtenha um conjunto de ['Companhia', 'Trimestre'] das linhas a serem atualizadas\n",
    "conjunto_para_atualizar = set(zip(linhas_para_atualizar['Companhia'], linhas_para_atualizar['Trimestre']))\n",
    "\n",
    "# Filtre o DataFrame de ações para excluir as linhas correspondentes\n",
    "df_acoes = df_acoes[~df_acoes.set_index(['Companhia', 'Trimestre']).index.isin(conjunto_para_atualizar)]\n"
   ]
  },
  {
   "cell_type": "code",
   "execution_count": null,
   "metadata": {},
   "outputs": [],
   "source": [
    "# Crie um DataFrame apenas com as linhas para atualização e as colunas relevantes\n",
    "linhas_para_atualizar = linhas_para_atualizar[['Companhia', 'Trimestre', 'URL_nsd']]\n",
    "\n",
    "# Faça a fusão do DataFrame de ações original com o DataFrame de atualização usando 'URL_nsd' como chave\n",
    "df_acoes = pd.merge(df_acoes, linhas_para_atualizar, on=['Companhia', 'Trimestre'], how='left')\n",
    "\n",
    "# Renomeie a coluna 'URL_nsd' para 'URL' no DataFrame de ações (se necessário)\n",
    "df_acoes.rename(columns={'URL_nsd': 'URL'}, inplace=True)\n",
    "df_acoes"
   ]
  },
  {
   "cell_type": "code",
   "execution_count": null,
   "metadata": {},
   "outputs": [],
   "source": []
  },
  {
   "cell_type": "code",
   "execution_count": null,
   "metadata": {},
   "outputs": [],
   "source": []
  },
  {
   "cell_type": "code",
   "execution_count": null,
   "metadata": {},
   "outputs": [],
   "source": []
  },
  {
   "cell_type": "code",
   "execution_count": null,
   "metadata": {},
   "outputs": [],
   "source": [
    "c = 'ALFA HOLDINGS SA'\n",
    "t = '2010-12-31'\n",
    "\n",
    "m_acoes = (df_acoes['Companhia'] == c) & (df_acoes['Trimestre'] == t)\n",
    "df_acoes[m_acoes]"
   ]
  },
  {
   "cell_type": "code",
   "execution_count": null,
   "metadata": {},
   "outputs": [],
   "source": [
    "m_nsd = (df_nsd_filtered['Companhia'] == c) & (df_nsd_filtered['Trimestre'] == t)\n",
    "df_nsd_filtered[m_nsd]\n"
   ]
  },
  {
   "cell_type": "code",
   "execution_count": null,
   "metadata": {},
   "outputs": [],
   "source": [
    "urls_most_recent = acoes_most_recent['URL'].unique()\n",
    "urls_most_recent\n",
    "\n",
    "df_nsd_filtered = df_nsd_filtered[~df_nsd_filtered['URL'].isin(urls_most_recent)]\n"
   ]
  },
  {
   "cell_type": "code",
   "execution_count": null,
   "metadata": {},
   "outputs": [],
   "source": [
    "acoes_most_recent[['Companhia', 'Trimestre', 'URL', 'URL_nsd', 'nsd', 'nsd_nsd']]"
   ]
  },
  {
   "cell_type": "code",
   "execution_count": null,
   "metadata": {},
   "outputs": [],
   "source": [
    "df_nsd_filtered[['Companhia', 'Trimestre', 'nsd']]"
   ]
  },
  {
   "cell_type": "code",
   "execution_count": null,
   "metadata": {},
   "outputs": [],
   "source": []
  },
  {
   "cell_type": "code",
   "execution_count": null,
   "metadata": {},
   "outputs": [],
   "source": []
  },
  {
   "cell_type": "code",
   "execution_count": null,
   "metadata": {},
   "outputs": [],
   "source": [
    "    # Filter for relevant document types\n",
    "    df_nsd_filtered = df_nsd[df_nsd['dre'].isin(b3.dfp)].copy()\n",
    "\n",
    "    # Convert data types and remove duplicates\n",
    "    df_nsd_filtered['nsd'] = df_nsd_filtered['nsd'].astype(int)\n",
    "    df_nsd_filtered['Trimestre'] = pd.to_datetime(df_nsd_filtered['Trimestre'], format='%d%m%Y', errors='coerce')\n",
    "    df_nsd_filtered.sort_values('nsd', ascending=True, inplace=True)\n",
    "    df_nsd_filtered.drop_duplicates(['Companhia', 'Trimestre'], keep='last', inplace=True)\n",
    "\n",
    "    # Identify latest document per company and quarter\n",
    "    nsd_max = df_nsd_filtered.groupby(['Companhia', 'Trimestre'])['nsd'].max().reset_index()\n",
    "    nsd_max['Trimestre'] = pd.to_datetime(nsd_max['Trimestre'], format='%d%m%Y', errors='coerce')\n",
    "    nsd_max['nsd'] = nsd_max['nsd'].astype(int)\n",
    "\n",
    "    df_nsd_filtered.sort_values(by=['Companhia', 'Trimestre'], ascending=[True, True], inplace=True)\n",
    "\t\n",
    "    if not df_acoes.empty:\n",
    "        # Extract NSD from URLs and convert 'Trimestre' to datetime\n",
    "        df_acoes['nsd'] = df_acoes['URL'].apply(lambda x: int(x.split('Documento=')[-1].split('&')[0]))\n",
    "        df_acoes['Trimestre'] = pd.to_datetime(df_acoes['Trimestre'], format='%d%m%Y', errors='coerce')\n",
    "\n",
    "        # Combine rows based on Company and Quarter, retaining recent entries\n",
    "        df_acoes_merged = pd.merge(df_acoes, nsd_max, on=['Companhia', 'Trimestre'], how='left', suffixes=('', '_max'))\n",
    "        acoes_most_recent = df_acoes_merged[df_acoes_merged['nsd'] >= df_acoes_merged['nsd_max']].drop(columns=['nsd_max'])\n",
    "\n",
    "        # List URLs from recent entries to remove from df_nsd_filtered\n",
    "        urls_to_remove = acoes_most_recent['URL'].unique()\n",
    "        df_nsd_filtered = df_nsd_filtered[~df_nsd_filtered['URL'].isin(urls_to_remove)]\n",
    "\n",
    "        # Drop temporary columns\n",
    "        df_acoes.drop(columns=['nsd', 'nsd_max'], inplace=True, errors='ignore')\n"
   ]
  }
 ],
 "metadata": {
  "kernelspec": {
   "display_name": ".venv",
   "language": "python",
   "name": "python3"
  },
  "language_info": {
   "codemirror_mode": {
    "name": "ipython",
    "version": 3
   },
   "file_extension": ".py",
   "mimetype": "text/x-python",
   "name": "python",
   "nbconvert_exporter": "python",
   "pygments_lexer": "ipython3",
   "version": "3.10.6"
  }
 },
 "nbformat": 4,
 "nbformat_minor": 2
}
